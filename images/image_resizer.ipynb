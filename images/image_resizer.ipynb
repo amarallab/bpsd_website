{
 "cells": [
  {
   "cell_type": "code",
   "execution_count": 1,
   "id": "618da3bc",
   "metadata": {},
   "outputs": [],
   "source": [
    "import cv2\n",
    "import os\n",
    "\n",
    "def resize_image(input_path, output_size=(160, 144)):\n",
    "    \"\"\"\n",
    "    Resize an image to the specified size and save it with a 'resized' suffix.\n",
    "\n",
    "    Args:\n",
    "        input_path (str): Path to the input image.\n",
    "        output_size (tuple): Desired size as (width, height).\n",
    "    \"\"\"\n",
    "    try:\n",
    "        # Open the image\n",
    "        img = cv2.imread(input_path)\n",
    "        \n",
    "        # Resize the image\n",
    "        img_resized = cv2.resize(img, output_size, interpolation=cv2.INTER_AREA)\n",
    "        \n",
    "        # Generate the output path\n",
    "        base, ext = os.path.splitext(input_path)\n",
    "        output_path = f\"{base}_resized{ext}\"\n",
    "        \n",
    "        # Save the resized image\n",
    "        cv2.imwrite(output_path, img_resized)\n",
    "        print(f\"Resized image saved at: {output_path}\")\n",
    "        \n",
    "    except Exception as e:\n",
    "        print(f\"Error resizing image: {e}\")"
   ]
  },
  {
   "cell_type": "code",
   "execution_count": 2,
   "id": "717eeb65",
   "metadata": {},
   "outputs": [
    {
     "name": "stdout",
     "output_type": "stream",
     "text": [
      "Resized image saved at: scales-fit_resized.png\n"
     ]
    }
   ],
   "source": [
    "resize_image(\"scales-fit.png\")"
   ]
  }
 ],
 "metadata": {
  "kernelspec": {
   "display_name": "Python 3",
   "language": "python",
   "name": "python3"
  },
  "language_info": {
   "codemirror_mode": {
    "name": "ipython",
    "version": 3
   },
   "file_extension": ".py",
   "mimetype": "text/x-python",
   "name": "python",
   "nbconvert_exporter": "python",
   "pygments_lexer": "ipython3",
   "version": "3.11.11"
  }
 },
 "nbformat": 4,
 "nbformat_minor": 5
}
